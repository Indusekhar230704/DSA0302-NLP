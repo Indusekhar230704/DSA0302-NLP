{
  "nbformat": 4,
  "nbformat_minor": 0,
  "metadata": {
    "colab": {
      "provenance": [],
      "authorship_tag": "ABX9TyONricmn4leVBdhy5aJO8HK",
      "include_colab_link": true
    },
    "kernelspec": {
      "name": "python3",
      "display_name": "Python 3"
    },
    "language_info": {
      "name": "python"
    }
  },
  "cells": [
    {
      "cell_type": "markdown",
      "metadata": {
        "id": "view-in-github",
        "colab_type": "text"
      },
      "source": [
        "<a href=\"https://colab.research.google.com/github/Indusekhar230704/DSA0302-NLP/blob/main/Untitled1.ipynb\" target=\"_parent\"><img src=\"https://colab.research.google.com/assets/colab-badge.svg\" alt=\"Open In Colab\"/></a>"
      ]
    },
    {
      "cell_type": "code",
      "source": [
        "class FiniteStateAutomaton:\n",
        "    def __init__(self):\n",
        "        # Define the states\n",
        "        self.states = {'q0', 'q1'}\n",
        "\n",
        "        # Define the alphabet (input symbols)\n",
        "        self.alphabet = {'0', '1'}\n",
        "\n",
        "        # Define the transition function\n",
        "        self.transition = {\n",
        "            'q0': {'0': 'q1', '1': 'q0'},\n",
        "            'q1': {'0': 'q0', '1': 'q1'}\n",
        "        }\n",
        "\n",
        "        # Define the initial state\n",
        "        self.initial_state = 'q0'\n",
        "\n",
        "        # Define the set of accepting states\n",
        "        self.accepting_states = {'q0'}\n",
        "\n",
        "    def process_input(self, input_string):\n",
        "        current_state = self.initial_state\n",
        "\n",
        "        for symbol in input_string:\n",
        "            if symbol not in self.alphabet:\n",
        "                raise ValueError(f\"Symbol '{symbol}' not in the alphabet.\")\n",
        "\n",
        "            current_state = self.transition[current_state][symbol]\n",
        "\n",
        "        return current_state in self.accepting_states\n",
        "\n",
        "\n",
        "# Example usage:\n",
        "if __name__ == \"__main__\":\n",
        "    fsa = FiniteStateAutomaton()\n",
        "\n",
        "    # Test with some strings\n",
        "    test_strings = [\"\", \"01\", \"10\", \"0011\", \"1100\", \"000111\", \"111000\", \"010101\", \"101010\"]\n",
        "\n",
        "    for test_str in test_strings:\n",
        "        result = fsa.process_input(test_str)\n",
        "        print(f\"The string '{test_str}' is {'accepted' if result else 'rejected'} by the FSA.\")\n"
      ],
      "metadata": {
        "colab": {
          "base_uri": "https://localhost:8080/"
        },
        "id": "gh8w0bmfzXVG",
        "outputId": "a0db83fc-dedc-48c3-a39d-53cc90c7c092"
      },
      "execution_count": 6,
      "outputs": [
        {
          "output_type": "stream",
          "name": "stdout",
          "text": [
            "The string '' is accepted by the FSA.\n",
            "The string '01' is rejected by the FSA.\n",
            "The string '10' is rejected by the FSA.\n",
            "The string '0011' is accepted by the FSA.\n",
            "The string '1100' is accepted by the FSA.\n",
            "The string '000111' is rejected by the FSA.\n",
            "The string '111000' is rejected by the FSA.\n",
            "The string '010101' is rejected by the FSA.\n",
            "The string '101010' is rejected by the FSA.\n"
          ]
        }
      ]
    }
  ]
}